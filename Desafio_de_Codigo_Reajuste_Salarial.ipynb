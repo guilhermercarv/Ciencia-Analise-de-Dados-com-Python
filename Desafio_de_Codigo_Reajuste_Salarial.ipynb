{
  "nbformat": 4,
  "nbformat_minor": 0,
  "metadata": {
    "colab": {
      "provenance": [],
      "authorship_tag": "ABX9TyMHPhxb5Ei+inujYwwiq6vM",
      "include_colab_link": true
    },
    "kernelspec": {
      "name": "python3",
      "display_name": "Python 3"
    },
    "language_info": {
      "name": "python"
    }
  },
  "cells": [
    {
      "cell_type": "markdown",
      "metadata": {
        "id": "view-in-github",
        "colab_type": "text"
      },
      "source": [
        "<a href=\"https://colab.research.google.com/github/guilhermercarv/Ciencia-Analise-de-Dados-com-Python/blob/main/Desafio_de_Codigo_Reajuste_Salarial.ipynb\" target=\"_parent\"><img src=\"https://colab.research.google.com/assets/colab-badge.svg\" alt=\"Open In Colab\"/></a>"
      ]
    },
    {
      "cell_type": "markdown",
      "source": [
        "A empresa que você trabalha resolveu conceder um aumento salarial a todos funcionários, de acordo com a tabela abaixo:\n",
        "\n",
        "Salário\t/ Percentual de Reajuste\n",
        "\n",
        "0 - 600.00 / 17%\n",
        "\n",
        "600.01 - 900.00 / 13%\n",
        "\n",
        "900.01 - 1500.00 / 12%\n",
        "\n",
        "1500.01 - 2000.00 / 10%\n",
        "\n",
        "Acima de 2000.00 / 5%\n",
        "\n",
        "Leia o salário do funcionário e calcule e mostre o novo salário, bem como o valor de reajuste ganho e o índice reajustado, em percentual.\n",
        "\n",
        "A entrada contém apenas um valor de ponto flutuante, que pode ser maior ou igual a zero, com duas casas decimais, conforme exemplos abaixo.\n",
        "\n",
        "**Exemplo 1:**\n",
        "\n",
        "Entrada\tSaída\n",
        "1000\t\n",
        "Novo salario: 1120,00 \n",
        "\n",
        "Reajuste ganho: 120,00                                                                                     \n",
        "Em percentual: 12 %\n",
        " \n",
        "\n",
        "**Exemplo 2:**\n",
        "\n",
        "Entrada\tSaída\n",
        "2000\t\n",
        "Novo salario: 2200,00                                                                                                   \n",
        "Reajuste ganho: 200,00                                                                                                  \n",
        "Em percentual: 10 %\n",
        "\n"
      ],
      "metadata": {
        "id": "0P5EQ8lztF52"
      }
    },
    {
      "cell_type": "code",
      "source": [
        "salario = float(input()) \n",
        "\n",
        "if salario >= 0 and salario <= 600:\n",
        "   percentual = 17\n",
        "   reajuste = percentual / 100\n",
        "   reajuste_ganho = salario*reajuste\n",
        "   nov_salario = salario + reajuste_ganho\n",
        "\n",
        "elif salario >= 600.01 and salario <= 900:\n",
        "    percentual = 13\n",
        "    reajuste = percentual / 100\n",
        "    reajuste_ganho = salario*reajuste\n",
        "    nov_salario = salario + reajuste_ganho\n",
        "\n",
        "elif salario >= 900.01 and salario <= 1500:\n",
        "    percentual = 12\n",
        "    reajuste = percentual / 100\n",
        "    reajuste_ganho = salario*reajuste\n",
        "    nov_salario = salario + reajuste_ganho\n",
        "\n",
        "elif salario >= 1500.01 and salario <= 2000:\n",
        "    percentual = 10\n",
        "    reajuste = percentual / 100\n",
        "    reajuste_ganho = salario*reajuste\n",
        "    nov_salario = salario + reajuste_ganho\n",
        "\n",
        "else: \n",
        "    percentual = 5  \n",
        "    reajuste = percentual / 100\n",
        "    reajuste_ganho = salario*reajuste\n",
        "    nov_salario = salario + reajuste_ganho\n",
        "\n",
        "print(f'Novo salario: {nov_salario:.2f}')  \n",
        "print(f'Reajuste ganho: {reajuste_ganho:.2f}')\n",
        "print(f'Em percentual: {percentual:.2f} %')"
      ],
      "metadata": {
        "colab": {
          "base_uri": "https://localhost:8080/"
        },
        "id": "VsqDn_2bTLvz",
        "outputId": "c62661f6-15a9-4604-f652-fd108d72810b"
      },
      "execution_count": 41,
      "outputs": [
        {
          "output_type": "stream",
          "name": "stdout",
          "text": [
            "2500\n",
            "Novo salario: 2625.00\n",
            "Reajuste ganho: 125.00\n",
            "Em percentual: 5.00 %\n"
          ]
        }
      ]
    }
  ]
}