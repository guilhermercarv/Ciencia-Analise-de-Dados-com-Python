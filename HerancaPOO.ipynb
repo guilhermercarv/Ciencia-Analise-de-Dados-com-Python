{
  "nbformat": 4,
  "nbformat_minor": 0,
  "metadata": {
    "colab": {
      "provenance": [],
      "authorship_tag": "ABX9TyPkFHze4wcho044xqEhWayN",
      "include_colab_link": true
    },
    "kernelspec": {
      "name": "python3",
      "display_name": "Python 3"
    },
    "language_info": {
      "name": "python"
    }
  },
  "cells": [
    {
      "cell_type": "markdown",
      "metadata": {
        "id": "view-in-github",
        "colab_type": "text"
      },
      "source": [
        "<a href=\"https://colab.research.google.com/github/guilhermercarv/Ciencia-Analise-de-Dados-com-Python/blob/main/HerancaPOO.ipynb\" target=\"_parent\"><img src=\"https://colab.research.google.com/assets/colab-badge.svg\" alt=\"Open In Colab\"/></a>"
      ]
    },
    {
      "cell_type": "code",
      "execution_count": 1,
      "metadata": {
        "colab": {
          "base_uri": "https://localhost:8080/"
        },
        "id": "Jv7vKSQYRwKK",
        "outputId": "d9e636f4-169b-444c-f1e4-74aadf5c7ac8"
      },
      "outputs": [
        {
          "output_type": "stream",
          "name": "stdout",
          "text": [
            "Motocicleta: cor=preta, placa=abc-1234, numero_rodas=2\n",
            "Carro: cor=branco, placa=xde-0098, numero_rodas=4\n",
            "Caminhao: cor=roxo, placa=gfd-8712, numero_rodas=8, carregado=True\n"
          ]
        }
      ],
      "source": [
        "#  Herança Simples\n",
        "\n",
        "class Veiculo:\n",
        "    def __init__(self, cor, placa, numero_rodas):\n",
        "        self.cor = cor\n",
        "        self.placa = placa\n",
        "        self.numero_rodas = numero_rodas\n",
        "\n",
        "    def ligar_motor(self):\n",
        "        print(\"Ligando o motor\")\n",
        "\n",
        "    def __str__(self):\n",
        "        return f\"{self.__class__.__name__}: {', '.join([f'{chave}={valor}' for chave, valor in self.__dict__.items()])}\"\n",
        "\n",
        "\n",
        "class Motocicleta(Veiculo):\n",
        "    pass\n",
        "\n",
        "\n",
        "class Carro(Veiculo):\n",
        "    pass\n",
        "\n",
        "\n",
        "class Caminhao(Veiculo):\n",
        "    def __init__(self, cor, placa, numero_rodas, carregado):\n",
        "        super().__init__(cor, placa, numero_rodas)\n",
        "        self.carregado = carregado\n",
        "\n",
        "    def esta_carregado(self):\n",
        "        print(f\"{'Sim' if self.carregado else 'Não'} estou carregado\")\n",
        "\n",
        "\n",
        "moto = Motocicleta(\"preta\", \"abc-1234\", 2)\n",
        "carro = Carro(\"branco\", \"xde-0098\", 4)\n",
        "caminhao = Caminhao(\"roxo\", \"gfd-8712\", 8, True)\n",
        "\n",
        "print(moto)\n",
        "print(carro)\n",
        "print(caminhao)"
      ]
    },
    {
      "cell_type": "code",
      "source": [
        "#  Herança Multipla\n",
        "\n",
        "class Animal:\n",
        "    def __init__(self, nro_patas):\n",
        "        self.nro_patas = nro_patas\n",
        "\n",
        "    def __str__(self):\n",
        "        return f\"{self.__class__.__name__}: {', '.join([f'{chave}={valor}' for chave, valor in self.__dict__.items()])}\"\n",
        "\n",
        "\n",
        "class Mamifero(Animal):\n",
        "    def __init__(self, cor_pelo, **kw):\n",
        "        self.cor_pelo = cor_pelo\n",
        "        super().__init__(**kw)\n",
        "\n",
        "\n",
        "class Ave(Animal):\n",
        "    def __init__(self, cor_bico, **kw):\n",
        "        self.cor_bico = cor_bico\n",
        "        super().__init__(**kw)\n",
        "\n",
        "\n",
        "class Gato(Mamifero):\n",
        "    pass\n",
        "\n",
        "\n",
        "class Ornitorrinco(Mamifero, Ave):\n",
        "    def __init__(self, cor_bico, cor_pelo, nro_patas):\n",
        "        super().__init__(cor_pelo=cor_pelo, cor_bico=cor_bico, nro_patas=nro_patas)\n",
        "\n",
        "\n",
        "gato = Gato(nro_patas=4, cor_pelo=\"Preto\")\n",
        "print(gato)\n",
        "\n",
        "ornitorrinco = Ornitorrinco(nro_patas=2, cor_pelo=\"vermelho\", cor_bico=\"laranja\")\n",
        "print(ornitorrinco)"
      ],
      "metadata": {
        "colab": {
          "base_uri": "https://localhost:8080/"
        },
        "id": "y3QqvoTYpTZ1",
        "outputId": "81f96415-eb40-4a71-9726-11a6926a5715"
      },
      "execution_count": 2,
      "outputs": [
        {
          "output_type": "stream",
          "name": "stdout",
          "text": [
            "Gato: cor_pelo=Preto, nro_patas=4\n",
            "Ornitorrinco: cor_pelo=vermelho, cor_bico=laranja, nro_patas=2\n"
          ]
        }
      ]
    }
  ]
}