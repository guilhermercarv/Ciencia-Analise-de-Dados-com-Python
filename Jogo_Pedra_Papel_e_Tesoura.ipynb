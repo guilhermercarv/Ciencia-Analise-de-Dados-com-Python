{
  "nbformat": 4,
  "nbformat_minor": 0,
  "metadata": {
    "colab": {
      "provenance": [],
      "authorship_tag": "ABX9TyNHPz7ZW3hA7G03D7vvjQ/O",
      "include_colab_link": true
    },
    "kernelspec": {
      "name": "python3",
      "display_name": "Python 3"
    },
    "language_info": {
      "name": "python"
    }
  },
  "cells": [
    {
      "cell_type": "markdown",
      "metadata": {
        "id": "view-in-github",
        "colab_type": "text"
      },
      "source": [
        "<a href=\"https://colab.research.google.com/github/guilhermercarv/Ciencia-Analise-de-Dados-com-Python/blob/main/Jogo_Pedra_Papel_e_Tesoura.ipynb\" target=\"_parent\"><img src=\"https://colab.research.google.com/assets/colab-badge.svg\" alt=\"Open In Colab\"/></a>"
      ]
    },
    {
      "cell_type": "code",
      "execution_count": null,
      "metadata": {
        "colab": {
          "base_uri": "https://localhost:8080/"
        },
        "id": "TBgEMhHcWMVI",
        "outputId": "f3f95a3a-9d93-4410-c49f-b8e405e60e38"
      },
      "outputs": [
        {
          "output_type": "stream",
          "name": "stdout",
          "text": [
            "--------------------------------\n"
          ]
        }
      ],
      "source": [
        "from random import choice\n",
        "\n",
        "jogador_vitorias = 0\n",
        "maquina_vitorias = 0\n",
        "\n",
        "def opcao_jogador():\n",
        "  jogador = input('Escolha pedra, papel ou tesoura: ')\n",
        "  jogador.lower()\n",
        "  if jogador == 'pedra':\n",
        "    return jogador\n",
        "  elif jogador == 'papel':\n",
        "    return jogador\n",
        "  elif jogador == 'tesoura':\n",
        "    return jogador\n",
        "  else:\n",
        "    print('Opção Inválida, tente novamente')\n",
        "    opcao_jogador()\n",
        "\n",
        "def opcao_maquina():\n",
        "  maquina = choice(['pedra', 'papel', 'tesoura'])\n",
        "  return maquina\n",
        "\n",
        "while True:\n",
        "\n",
        "  print('-'*32)\n",
        "  jogador = opcao_jogador()\n",
        "  maquina = opcao_maquina()\n",
        "  print('-'*32)\n",
        "\n",
        "  if (jogador == 'pedra') and (maquina == 'tesoura') \\\n",
        "     or (jogador == 'papel') and (maquina == 'pedra') \\\n",
        "      or (jogador == 'tesoura') and (maquina == 'papel'):\n",
        "      print(f'Jogador escolheu: {jogador} e a Máquina escolheu {maquina}' \n",
        "      ' Resultado: Você Ganhou!')\n",
        "      jogador_vitorias += 1\n",
        "  elif jogador == maquina:\n",
        "    print(f'Jogador escolheu: {jogador} e a Máquina escolheu {maquina}' \n",
        "      ' Resultado: Empate!')\n",
        "  else:\n",
        "    print(f'Jogador escolheu: {jogador} e a Máquina escolheu {maquina}' \n",
        "      ' Resultado: Você Perdeu!')\n",
        "    maquina_vitorias += 1\n",
        "\n",
        "  \n",
        "  print('-'*32)\n",
        "  print(f'Vitórias do Jogador: {jogador_vitorias}')\n",
        "  print(f'Vitórias da Máquina: {maquina_vitorias}')\n",
        "  print('-'*32)\n",
        "\n",
        "  jogador = input('Você quer jogar novamente? ')\n",
        "  if jogador in ['Sim', 'SIM', 'Sim', 'S', 's', 'sim', 'Yes']:\n",
        "    pass\n",
        "  elif jogador in ['NAO', 'NÃO', 'nao', 'não', 'n', 'no', 'Não', 'Nao']:\n",
        "    break\n",
        "  else:\n",
        "    break\n"
      ]
    }
  ]
}