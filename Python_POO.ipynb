{
  "nbformat": 4,
  "nbformat_minor": 0,
  "metadata": {
    "colab": {
      "provenance": [],
      "authorship_tag": "ABX9TyPpuyJg9Z72FW+h45x1KeMt",
      "include_colab_link": true
    },
    "kernelspec": {
      "name": "python3",
      "display_name": "Python 3"
    },
    "language_info": {
      "name": "python"
    }
  },
  "cells": [
    {
      "cell_type": "markdown",
      "metadata": {
        "id": "view-in-github",
        "colab_type": "text"
      },
      "source": [
        "<a href=\"https://colab.research.google.com/github/guilhermercarv/Ciencia-Analise-de-Dados-com-Python/blob/main/Python_POO.ipynb\" target=\"_parent\"><img src=\"https://colab.research.google.com/assets/colab-badge.svg\" alt=\"Open In Colab\"/></a>"
      ]
    },
    {
      "cell_type": "markdown",
      "source": [
        "### **Desafio:**\n",
        "\n",
        "João tem uma bicicleta e Gostaria de Registrar as vendas de suas bicicletas. Crie um programa onde João informe: **cor**, **modelo**, **ano** e **valor** da bicleta vendida. Uma bicicleta pode: **buzinar**, **parar** e **correr**. Adcione esses comportamentos!"
      ],
      "metadata": {
        "id": "Bo0XyEl3QS68"
      }
    },
    {
      "cell_type": "code",
      "execution_count": 40,
      "metadata": {
        "id": "-x4bloC9P_Aj"
      },
      "outputs": [],
      "source": [
        "class bicicleta:\n",
        "  def __init__(self, cor, modelo, ano, valor):\n",
        "    self.cor = cor\n",
        "    self.modelo = modelo\n",
        "    self.ano = ano\n",
        "    self.valor = valor\n",
        "\n",
        "  def buzinar(self):\n",
        "      print(\"Plin Plin!\")\n",
        "\n",
        "  def parar(self):\n",
        "      print(\"Freando Bicicleta...\")\n",
        "      print(\"Bicleta parada!\")\n",
        "\n",
        "  def correr(self):\n",
        "      print(\"Aumentando a velocidade...\")\n",
        "      print(\"Bicicleta em alta velocidade!\")\n",
        "\n",
        "  #  Código útil para as representações de classe\n",
        "  def __str__(self):\n",
        "      return f\"{self.__class__.__name__}: {', '.join([f'{chave}={valor}' for chave, valor in self.__dict__.items()])}\"\n"
      ]
    },
    {
      "cell_type": "code",
      "source": [
        "b1 = bicicleta('verde', 'KSW', 2021, 2200)\n",
        "b1.buzinar()\n",
        "b1.parar()\n",
        "b1.correr()"
      ],
      "metadata": {
        "colab": {
          "base_uri": "https://localhost:8080/"
        },
        "id": "4Dlxrdg6TgBA",
        "outputId": "1c526577-602c-4833-9c79-f0dc63fd83a8"
      },
      "execution_count": 42,
      "outputs": [
        {
          "output_type": "stream",
          "name": "stdout",
          "text": [
            "Plin Plin!\n",
            "Freando Bicicleta...\n",
            "Bicleta parada!\n",
            "Aumentando a velocidade...\n",
            "Bicicleta em alta velocidade!\n"
          ]
        }
      ]
    },
    {
      "cell_type": "code",
      "source": [
        "print(b1.cor, b1.modelo)\n"
      ],
      "metadata": {
        "colab": {
          "base_uri": "https://localhost:8080/"
        },
        "id": "H47i3j48Ub5_",
        "outputId": "1a4fe539-fd10-4e3e-db48-bdc9a93f052b"
      },
      "execution_count": 23,
      "outputs": [
        {
          "output_type": "stream",
          "name": "stdout",
          "text": [
            "verde KSW\n"
          ]
        }
      ]
    },
    {
      "cell_type": "code",
      "source": [
        "b2 = bicicleta('vermelha', 'Caloi', 2022, 1350)\n",
        "b2.parar()"
      ],
      "metadata": {
        "colab": {
          "base_uri": "https://localhost:8080/"
        },
        "id": "FCDUkGGDWgZv",
        "outputId": "9bc5ca3e-76d3-4a40-f473-1944b36060e9"
      },
      "execution_count": 43,
      "outputs": [
        {
          "output_type": "stream",
          "name": "stdout",
          "text": [
            "Freando Bicicleta...\n",
            "Bicleta parada!\n"
          ]
        }
      ]
    },
    {
      "cell_type": "code",
      "source": [
        "print(b2.modelo, b2.ano)"
      ],
      "metadata": {
        "colab": {
          "base_uri": "https://localhost:8080/"
        },
        "id": "_8LtrTP4W0Ao",
        "outputId": "ab3acad2-eaab-42cb-a595-d1fe05910981"
      },
      "execution_count": 27,
      "outputs": [
        {
          "output_type": "stream",
          "name": "stdout",
          "text": [
            "Caloi 2022\n"
          ]
        }
      ]
    },
    {
      "cell_type": "code",
      "source": [
        "print(b2)"
      ],
      "metadata": {
        "colab": {
          "base_uri": "https://localhost:8080/"
        },
        "id": "lG-MnWIFW-n_",
        "outputId": "5bd97755-6a91-4029-f6a0-94f5a29e84d0"
      },
      "execution_count": 45,
      "outputs": [
        {
          "output_type": "stream",
          "name": "stdout",
          "text": [
            "bicicleta: cor=vermelha, modelo=Caloi, ano=2022, valor=1350\n"
          ]
        }
      ]
    },
    {
      "cell_type": "code",
      "source": [
        "print(b1)"
      ],
      "metadata": {
        "colab": {
          "base_uri": "https://localhost:8080/"
        },
        "id": "BmptKBsUeJDW",
        "outputId": "ff703989-0921-419d-d230-e9928082e3c8"
      },
      "execution_count": 46,
      "outputs": [
        {
          "output_type": "stream",
          "name": "stdout",
          "text": [
            "bicicleta: cor=verde, modelo=KSW, ano=2021, valor=2200\n"
          ]
        }
      ]
    }
  ]
}